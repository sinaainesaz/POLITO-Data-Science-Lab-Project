{
  "nbformat": 4,
  "nbformat_minor": 0,
  "metadata": {
    "colab": {
      "name": "Beer2.ipynb",
      "provenance": [],
      "collapsed_sections": []
    },
    "kernelspec": {
      "name": "python3",
      "display_name": "Python 3"
    },
    "language_info": {
      "name": "python"
    }
  },
  "cells": [
    {
      "cell_type": "code",
      "metadata": {
        "id": "-qpXDaVTuaAs",
        "colab": {
          "base_uri": "https://localhost:8080/"
        },
        "outputId": "83d5db42-1264-4e92-81f3-95243b5dab0d"
      },
      "source": [
        "from google.colab import drive\n",
        "drive.mount('/content/drive')"
      ],
      "execution_count": 1,
      "outputs": [
        {
          "output_type": "stream",
          "text": [
            "Mounted at /content/drive\n"
          ],
          "name": "stdout"
        }
      ]
    },
    {
      "cell_type": "code",
      "metadata": {
        "id": "Zqt_h0w7xJvO"
      },
      "source": [
        "import pandas as pd\n",
        "df_dev = pd.read_csv('drive/MyDrive/Colab Notebooks/development.tsv',sep = '\\t')\n",
        "df_eval = pd.read_csv('drive/MyDrive/Colab Notebooks/evaluation.tsv',sep = '\\t')"
      ],
      "execution_count": 80,
      "outputs": []
    },
    {
      "cell_type": "code",
      "metadata": {
        "id": "PwA3kwHQxeSm",
        "colab": {
          "base_uri": "https://localhost:8080/",
          "height": 505
        },
        "outputId": "17f7815e-a512-49a8-a997-2146cf5e53ce"
      },
      "source": [
        "df_dev.head()"
      ],
      "execution_count": 81,
      "outputs": [
        {
          "output_type": "execute_result",
          "data": {
            "text/html": [
              "<div>\n",
              "<style scoped>\n",
              "    .dataframe tbody tr th:only-of-type {\n",
              "        vertical-align: middle;\n",
              "    }\n",
              "\n",
              "    .dataframe tbody tr th {\n",
              "        vertical-align: top;\n",
              "    }\n",
              "\n",
              "    .dataframe thead th {\n",
              "        text-align: right;\n",
              "    }\n",
              "</style>\n",
              "<table border=\"1\" class=\"dataframe\">\n",
              "  <thead>\n",
              "    <tr style=\"text-align: right;\">\n",
              "      <th></th>\n",
              "      <th>beer/ABV</th>\n",
              "      <th>beer/name</th>\n",
              "      <th>beer/style</th>\n",
              "      <th>review/appearance</th>\n",
              "      <th>review/aroma</th>\n",
              "      <th>review/overall</th>\n",
              "      <th>review/palate</th>\n",
              "      <th>review/taste</th>\n",
              "      <th>review/text</th>\n",
              "      <th>user/ageInSeconds</th>\n",
              "      <th>user/birthdayRaw</th>\n",
              "      <th>user/birthdayUnix</th>\n",
              "      <th>user/gender</th>\n",
              "      <th>user/profileName</th>\n",
              "    </tr>\n",
              "  </thead>\n",
              "  <tbody>\n",
              "    <tr>\n",
              "      <th>0</th>\n",
              "      <td>5.70</td>\n",
              "      <td>Barney Flats Oatmeal Stout</td>\n",
              "      <td>Oatmeal Stout</td>\n",
              "      <td>4.5</td>\n",
              "      <td>5.0</td>\n",
              "      <td>4.5</td>\n",
              "      <td>4.0</td>\n",
              "      <td>4.5</td>\n",
              "      <td>Pours a dark almost cola color with reddish br...</td>\n",
              "      <td>1.066918e+09</td>\n",
              "      <td>Feb 19, 1981</td>\n",
              "      <td>351417600.0</td>\n",
              "      <td>Male</td>\n",
              "      <td>goblue3509</td>\n",
              "    </tr>\n",
              "    <tr>\n",
              "      <th>1</th>\n",
              "      <td>9.99</td>\n",
              "      <td>Brown Shugga'</td>\n",
              "      <td>American Strong Ale</td>\n",
              "      <td>4.0</td>\n",
              "      <td>4.0</td>\n",
              "      <td>4.0</td>\n",
              "      <td>4.5</td>\n",
              "      <td>5.0</td>\n",
              "      <td>I went to a place called World Market in Oxnar...</td>\n",
              "      <td>NaN</td>\n",
              "      <td>NaN</td>\n",
              "      <td>NaN</td>\n",
              "      <td>NaN</td>\n",
              "      <td>Lounge14ABV</td>\n",
              "    </tr>\n",
              "    <tr>\n",
              "      <th>2</th>\n",
              "      <td>5.35</td>\n",
              "      <td>Casta Bruna (Pale Ale)</td>\n",
              "      <td>English Pale Ale</td>\n",
              "      <td>3.0</td>\n",
              "      <td>3.0</td>\n",
              "      <td>4.0</td>\n",
              "      <td>3.0</td>\n",
              "      <td>3.5</td>\n",
              "      <td>I clicked on Casta tonight just to add some no...</td>\n",
              "      <td>NaN</td>\n",
              "      <td>NaN</td>\n",
              "      <td>NaN</td>\n",
              "      <td>NaN</td>\n",
              "      <td>DogFood11</td>\n",
              "    </tr>\n",
              "    <tr>\n",
              "      <th>3</th>\n",
              "      <td>8.00</td>\n",
              "      <td>Old Engine Oil Special Reserve (Aged In Malt W...</td>\n",
              "      <td>Old Ale</td>\n",
              "      <td>4.0</td>\n",
              "      <td>4.5</td>\n",
              "      <td>4.0</td>\n",
              "      <td>5.0</td>\n",
              "      <td>4.0</td>\n",
              "      <td>Wonderful little beer. Pours a deep brown with...</td>\n",
              "      <td>NaN</td>\n",
              "      <td>NaN</td>\n",
              "      <td>NaN</td>\n",
              "      <td>NaN</td>\n",
              "      <td>BasementDweller</td>\n",
              "    </tr>\n",
              "    <tr>\n",
              "      <th>4</th>\n",
              "      <td>7.00</td>\n",
              "      <td>Dark Humor</td>\n",
              "      <td>American Porter</td>\n",
              "      <td>3.5</td>\n",
              "      <td>4.0</td>\n",
              "      <td>4.0</td>\n",
              "      <td>4.0</td>\n",
              "      <td>4.5</td>\n",
              "      <td>Excited to see this on tap at Fathead's origin...</td>\n",
              "      <td>NaN</td>\n",
              "      <td>NaN</td>\n",
              "      <td>NaN</td>\n",
              "      <td>NaN</td>\n",
              "      <td>OneDropSoup</td>\n",
              "    </tr>\n",
              "  </tbody>\n",
              "</table>\n",
              "</div>"
            ],
            "text/plain": [
              "   beer/ABV  ... user/profileName\n",
              "0      5.70  ...       goblue3509\n",
              "1      9.99  ...      Lounge14ABV\n",
              "2      5.35  ...        DogFood11\n",
              "3      8.00  ...  BasementDweller\n",
              "4      7.00  ...      OneDropSoup\n",
              "\n",
              "[5 rows x 14 columns]"
            ]
          },
          "metadata": {
            "tags": []
          },
          "execution_count": 81
        }
      ]
    },
    {
      "cell_type": "code",
      "metadata": {
        "id": "L48b5I7Vxg5C",
        "colab": {
          "base_uri": "https://localhost:8080/",
          "height": 505
        },
        "outputId": "75d4b22f-607e-4e98-ba4c-df68961f7686"
      },
      "source": [
        "df_eval.head()"
      ],
      "execution_count": 82,
      "outputs": [
        {
          "output_type": "execute_result",
          "data": {
            "text/html": [
              "<div>\n",
              "<style scoped>\n",
              "    .dataframe tbody tr th:only-of-type {\n",
              "        vertical-align: middle;\n",
              "    }\n",
              "\n",
              "    .dataframe tbody tr th {\n",
              "        vertical-align: top;\n",
              "    }\n",
              "\n",
              "    .dataframe thead th {\n",
              "        text-align: right;\n",
              "    }\n",
              "</style>\n",
              "<table border=\"1\" class=\"dataframe\">\n",
              "  <thead>\n",
              "    <tr style=\"text-align: right;\">\n",
              "      <th></th>\n",
              "      <th>beer/ABV</th>\n",
              "      <th>beer/name</th>\n",
              "      <th>beer/style</th>\n",
              "      <th>review/appearance</th>\n",
              "      <th>review/aroma</th>\n",
              "      <th>review/palate</th>\n",
              "      <th>review/taste</th>\n",
              "      <th>review/text</th>\n",
              "      <th>user/ageInSeconds</th>\n",
              "      <th>user/birthdayRaw</th>\n",
              "      <th>user/birthdayUnix</th>\n",
              "      <th>user/gender</th>\n",
              "      <th>user/profileName</th>\n",
              "    </tr>\n",
              "  </thead>\n",
              "  <tbody>\n",
              "    <tr>\n",
              "      <th>0</th>\n",
              "      <td>5.1</td>\n",
              "      <td>Roxy Rolles</td>\n",
              "      <td>American Amber / Red Ale</td>\n",
              "      <td>3.0</td>\n",
              "      <td>3.0</td>\n",
              "      <td>3.0</td>\n",
              "      <td>1.5</td>\n",
              "      <td>Disagreeing with the Bros on this one...\\t\\tAp...</td>\n",
              "      <td>NaN</td>\n",
              "      <td>NaN</td>\n",
              "      <td>NaN</td>\n",
              "      <td>NaN</td>\n",
              "      <td>lilbrewmonkey</td>\n",
              "    </tr>\n",
              "    <tr>\n",
              "      <th>1</th>\n",
              "      <td>10.0</td>\n",
              "      <td>Burton Baton</td>\n",
              "      <td>American Double / Imperial IPA</td>\n",
              "      <td>4.5</td>\n",
              "      <td>4.0</td>\n",
              "      <td>5.0</td>\n",
              "      <td>4.0</td>\n",
              "      <td>Love this brew. I'll start with a review of th...</td>\n",
              "      <td>NaN</td>\n",
              "      <td>NaN</td>\n",
              "      <td>NaN</td>\n",
              "      <td>NaN</td>\n",
              "      <td>Tripphop</td>\n",
              "    </tr>\n",
              "    <tr>\n",
              "      <th>2</th>\n",
              "      <td>5.6</td>\n",
              "      <td>Old #38 Stout</td>\n",
              "      <td>Irish Dry Stout</td>\n",
              "      <td>4.0</td>\n",
              "      <td>4.0</td>\n",
              "      <td>3.0</td>\n",
              "      <td>4.0</td>\n",
              "      <td>Dark brown color, medium head. Deeply roasted ...</td>\n",
              "      <td>1.782054e+09</td>\n",
              "      <td>Jun 23, 1958</td>\n",
              "      <td>-363718800.0</td>\n",
              "      <td>Male</td>\n",
              "      <td>beerguy101</td>\n",
              "    </tr>\n",
              "    <tr>\n",
              "      <th>3</th>\n",
              "      <td>7.2</td>\n",
              "      <td>Indian Brown Ale</td>\n",
              "      <td>American Brown Ale</td>\n",
              "      <td>4.5</td>\n",
              "      <td>4.5</td>\n",
              "      <td>4.0</td>\n",
              "      <td>5.0</td>\n",
              "      <td>Pours a completely black, opaque color, with a...</td>\n",
              "      <td>NaN</td>\n",
              "      <td>NaN</td>\n",
              "      <td>NaN</td>\n",
              "      <td>Male</td>\n",
              "      <td>terrabyte</td>\n",
              "    </tr>\n",
              "    <tr>\n",
              "      <th>4</th>\n",
              "      <td>3.6</td>\n",
              "      <td>Greene King IPA Draught Bitter</td>\n",
              "      <td>English Bitter</td>\n",
              "      <td>3.0</td>\n",
              "      <td>2.0</td>\n",
              "      <td>2.5</td>\n",
              "      <td>2.0</td>\n",
              "      <td>Refreshingly lime-infused which is a complimen...</td>\n",
              "      <td>NaN</td>\n",
              "      <td>NaN</td>\n",
              "      <td>NaN</td>\n",
              "      <td>Male</td>\n",
              "      <td>ngandhi</td>\n",
              "    </tr>\n",
              "  </tbody>\n",
              "</table>\n",
              "</div>"
            ],
            "text/plain": [
              "   beer/ABV                       beer/name  ... user/gender  user/profileName\n",
              "0       5.1                     Roxy Rolles  ...         NaN     lilbrewmonkey\n",
              "1      10.0                    Burton Baton  ...         NaN          Tripphop\n",
              "2       5.6                   Old #38 Stout  ...        Male        beerguy101\n",
              "3       7.2                Indian Brown Ale  ...        Male         terrabyte\n",
              "4       3.6  Greene King IPA Draught Bitter  ...        Male           ngandhi\n",
              "\n",
              "[5 rows x 13 columns]"
            ]
          },
          "metadata": {
            "tags": []
          },
          "execution_count": 82
        }
      ]
    },
    {
      "cell_type": "code",
      "metadata": {
        "id": "FkvY-XaJxlYS",
        "colab": {
          "base_uri": "https://localhost:8080/",
          "height": 294
        },
        "outputId": "eed1e171-231b-4b0a-d4f3-74610c2955e7"
      },
      "source": [
        "df_dev.describe()"
      ],
      "execution_count": 83,
      "outputs": [
        {
          "output_type": "execute_result",
          "data": {
            "text/html": [
              "<div>\n",
              "<style scoped>\n",
              "    .dataframe tbody tr th:only-of-type {\n",
              "        vertical-align: middle;\n",
              "    }\n",
              "\n",
              "    .dataframe tbody tr th {\n",
              "        vertical-align: top;\n",
              "    }\n",
              "\n",
              "    .dataframe thead th {\n",
              "        text-align: right;\n",
              "    }\n",
              "</style>\n",
              "<table border=\"1\" class=\"dataframe\">\n",
              "  <thead>\n",
              "    <tr style=\"text-align: right;\">\n",
              "      <th></th>\n",
              "      <th>beer/ABV</th>\n",
              "      <th>review/appearance</th>\n",
              "      <th>review/aroma</th>\n",
              "      <th>review/overall</th>\n",
              "      <th>review/palate</th>\n",
              "      <th>review/taste</th>\n",
              "      <th>user/ageInSeconds</th>\n",
              "      <th>user/birthdayUnix</th>\n",
              "    </tr>\n",
              "  </thead>\n",
              "  <tbody>\n",
              "    <tr>\n",
              "      <th>count</th>\n",
              "      <td>66893.000000</td>\n",
              "      <td>70000.000000</td>\n",
              "      <td>70000.000000</td>\n",
              "      <td>70000.000000</td>\n",
              "      <td>70000.000000</td>\n",
              "      <td>70000.000000</td>\n",
              "      <td>1.464500e+04</td>\n",
              "      <td>1.464500e+04</td>\n",
              "    </tr>\n",
              "    <tr>\n",
              "      <th>mean</th>\n",
              "      <td>7.043462</td>\n",
              "      <td>3.845914</td>\n",
              "      <td>3.739307</td>\n",
              "      <td>3.815607</td>\n",
              "      <td>3.747814</td>\n",
              "      <td>3.794571</td>\n",
              "      <td>1.192574e+09</td>\n",
              "      <td>2.257617e+08</td>\n",
              "    </tr>\n",
              "    <tr>\n",
              "      <th>std</th>\n",
              "      <td>2.300757</td>\n",
              "      <td>0.611478</td>\n",
              "      <td>0.694185</td>\n",
              "      <td>0.720577</td>\n",
              "      <td>0.679655</td>\n",
              "      <td>0.733947</td>\n",
              "      <td>3.592932e+08</td>\n",
              "      <td>3.592932e+08</td>\n",
              "    </tr>\n",
              "    <tr>\n",
              "      <th>min</th>\n",
              "      <td>0.300000</td>\n",
              "      <td>1.000000</td>\n",
              "      <td>1.000000</td>\n",
              "      <td>1.000000</td>\n",
              "      <td>1.000000</td>\n",
              "      <td>1.000000</td>\n",
              "      <td>6.430430e+08</td>\n",
              "      <td>-2.208960e+09</td>\n",
              "    </tr>\n",
              "    <tr>\n",
              "      <th>25%</th>\n",
              "      <td>5.250000</td>\n",
              "      <td>3.500000</td>\n",
              "      <td>3.500000</td>\n",
              "      <td>3.500000</td>\n",
              "      <td>3.500000</td>\n",
              "      <td>3.500000</td>\n",
              "      <td>9.837182e+08</td>\n",
              "      <td>1.198620e+08</td>\n",
              "    </tr>\n",
              "    <tr>\n",
              "      <th>50%</th>\n",
              "      <td>6.500000</td>\n",
              "      <td>4.000000</td>\n",
              "      <td>4.000000</td>\n",
              "      <td>4.000000</td>\n",
              "      <td>4.000000</td>\n",
              "      <td>4.000000</td>\n",
              "      <td>1.107439e+09</td>\n",
              "      <td>3.108960e+08</td>\n",
              "    </tr>\n",
              "    <tr>\n",
              "      <th>75%</th>\n",
              "      <td>8.500000</td>\n",
              "      <td>4.000000</td>\n",
              "      <td>4.000000</td>\n",
              "      <td>4.500000</td>\n",
              "      <td>4.000000</td>\n",
              "      <td>4.500000</td>\n",
              "      <td>1.298473e+09</td>\n",
              "      <td>4.346172e+08</td>\n",
              "    </tr>\n",
              "    <tr>\n",
              "      <th>max</th>\n",
              "      <td>41.000000</td>\n",
              "      <td>5.000000</td>\n",
              "      <td>5.000000</td>\n",
              "      <td>5.000000</td>\n",
              "      <td>5.000000</td>\n",
              "      <td>5.000000</td>\n",
              "      <td>3.627295e+09</td>\n",
              "      <td>7.752924e+08</td>\n",
              "    </tr>\n",
              "  </tbody>\n",
              "</table>\n",
              "</div>"
            ],
            "text/plain": [
              "           beer/ABV  review/appearance  ...  user/ageInSeconds  user/birthdayUnix\n",
              "count  66893.000000       70000.000000  ...       1.464500e+04       1.464500e+04\n",
              "mean       7.043462           3.845914  ...       1.192574e+09       2.257617e+08\n",
              "std        2.300757           0.611478  ...       3.592932e+08       3.592932e+08\n",
              "min        0.300000           1.000000  ...       6.430430e+08      -2.208960e+09\n",
              "25%        5.250000           3.500000  ...       9.837182e+08       1.198620e+08\n",
              "50%        6.500000           4.000000  ...       1.107439e+09       3.108960e+08\n",
              "75%        8.500000           4.000000  ...       1.298473e+09       4.346172e+08\n",
              "max       41.000000           5.000000  ...       3.627295e+09       7.752924e+08\n",
              "\n",
              "[8 rows x 8 columns]"
            ]
          },
          "metadata": {
            "tags": []
          },
          "execution_count": 83
        }
      ]
    },
    {
      "cell_type": "code",
      "metadata": {
        "id": "wxPg7mftzOYj",
        "colab": {
          "base_uri": "https://localhost:8080/",
          "height": 294
        },
        "outputId": "d22f4aed-8933-4f89-d72f-83370cf61ba7"
      },
      "source": [
        "df_eval.describe()"
      ],
      "execution_count": 84,
      "outputs": [
        {
          "output_type": "execute_result",
          "data": {
            "text/html": [
              "<div>\n",
              "<style scoped>\n",
              "    .dataframe tbody tr th:only-of-type {\n",
              "        vertical-align: middle;\n",
              "    }\n",
              "\n",
              "    .dataframe tbody tr th {\n",
              "        vertical-align: top;\n",
              "    }\n",
              "\n",
              "    .dataframe thead th {\n",
              "        text-align: right;\n",
              "    }\n",
              "</style>\n",
              "<table border=\"1\" class=\"dataframe\">\n",
              "  <thead>\n",
              "    <tr style=\"text-align: right;\">\n",
              "      <th></th>\n",
              "      <th>beer/ABV</th>\n",
              "      <th>review/appearance</th>\n",
              "      <th>review/aroma</th>\n",
              "      <th>review/palate</th>\n",
              "      <th>review/taste</th>\n",
              "      <th>user/ageInSeconds</th>\n",
              "      <th>user/birthdayUnix</th>\n",
              "    </tr>\n",
              "  </thead>\n",
              "  <tbody>\n",
              "    <tr>\n",
              "      <th>count</th>\n",
              "      <td>28715.000000</td>\n",
              "      <td>30000.000000</td>\n",
              "      <td>30000.000000</td>\n",
              "      <td>30000.000000</td>\n",
              "      <td>30000.000000</td>\n",
              "      <td>6.272000e+03</td>\n",
              "      <td>6.272000e+03</td>\n",
              "    </tr>\n",
              "    <tr>\n",
              "      <th>mean</th>\n",
              "      <td>7.013776</td>\n",
              "      <td>3.841167</td>\n",
              "      <td>3.737283</td>\n",
              "      <td>3.742917</td>\n",
              "      <td>3.791567</td>\n",
              "      <td>1.191678e+09</td>\n",
              "      <td>2.266572e+08</td>\n",
              "    </tr>\n",
              "    <tr>\n",
              "      <th>std</th>\n",
              "      <td>2.296975</td>\n",
              "      <td>0.607496</td>\n",
              "      <td>0.695129</td>\n",
              "      <td>0.684238</td>\n",
              "      <td>0.730495</td>\n",
              "      <td>3.667153e+08</td>\n",
              "      <td>3.667153e+08</td>\n",
              "    </tr>\n",
              "    <tr>\n",
              "      <th>min</th>\n",
              "      <td>0.050000</td>\n",
              "      <td>1.000000</td>\n",
              "      <td>1.000000</td>\n",
              "      <td>1.000000</td>\n",
              "      <td>1.000000</td>\n",
              "      <td>5.467934e+08</td>\n",
              "      <td>-2.208960e+09</td>\n",
              "    </tr>\n",
              "    <tr>\n",
              "      <th>25%</th>\n",
              "      <td>5.200000</td>\n",
              "      <td>3.500000</td>\n",
              "      <td>3.500000</td>\n",
              "      <td>3.500000</td>\n",
              "      <td>3.500000</td>\n",
              "      <td>9.830270e+08</td>\n",
              "      <td>1.197108e+08</td>\n",
              "    </tr>\n",
              "    <tr>\n",
              "      <th>50%</th>\n",
              "      <td>6.500000</td>\n",
              "      <td>4.000000</td>\n",
              "      <td>4.000000</td>\n",
              "      <td>4.000000</td>\n",
              "      <td>4.000000</td>\n",
              "      <td>1.102601e+09</td>\n",
              "      <td>3.157344e+08</td>\n",
              "    </tr>\n",
              "    <tr>\n",
              "      <th>75%</th>\n",
              "      <td>8.500000</td>\n",
              "      <td>4.000000</td>\n",
              "      <td>4.000000</td>\n",
              "      <td>4.000000</td>\n",
              "      <td>4.500000</td>\n",
              "      <td>1.298625e+09</td>\n",
              "      <td>4.353084e+08</td>\n",
              "    </tr>\n",
              "    <tr>\n",
              "      <th>max</th>\n",
              "      <td>41.000000</td>\n",
              "      <td>5.000000</td>\n",
              "      <td>5.000000</td>\n",
              "      <td>5.000000</td>\n",
              "      <td>5.000000</td>\n",
              "      <td>3.627295e+09</td>\n",
              "      <td>8.715420e+08</td>\n",
              "    </tr>\n",
              "  </tbody>\n",
              "</table>\n",
              "</div>"
            ],
            "text/plain": [
              "           beer/ABV  review/appearance  ...  user/ageInSeconds  user/birthdayUnix\n",
              "count  28715.000000       30000.000000  ...       6.272000e+03       6.272000e+03\n",
              "mean       7.013776           3.841167  ...       1.191678e+09       2.266572e+08\n",
              "std        2.296975           0.607496  ...       3.667153e+08       3.667153e+08\n",
              "min        0.050000           1.000000  ...       5.467934e+08      -2.208960e+09\n",
              "25%        5.200000           3.500000  ...       9.830270e+08       1.197108e+08\n",
              "50%        6.500000           4.000000  ...       1.102601e+09       3.157344e+08\n",
              "75%        8.500000           4.000000  ...       1.298625e+09       4.353084e+08\n",
              "max       41.000000           5.000000  ...       3.627295e+09       8.715420e+08\n",
              "\n",
              "[8 rows x 7 columns]"
            ]
          },
          "metadata": {
            "tags": []
          },
          "execution_count": 84
        }
      ]
    },
    {
      "cell_type": "code",
      "metadata": {
        "id": "Iry786FozgDT",
        "colab": {
          "base_uri": "https://localhost:8080/"
        },
        "outputId": "89b31817-81c3-46a1-b639-7608b8ccf6a7"
      },
      "source": [
        "df_dev.isna().any(axis=0)"
      ],
      "execution_count": 85,
      "outputs": [
        {
          "output_type": "execute_result",
          "data": {
            "text/plain": [
              "beer/ABV              True\n",
              "beer/name            False\n",
              "beer/style           False\n",
              "review/appearance    False\n",
              "review/aroma         False\n",
              "review/overall       False\n",
              "review/palate        False\n",
              "review/taste         False\n",
              "review/text           True\n",
              "user/ageInSeconds     True\n",
              "user/birthdayRaw      True\n",
              "user/birthdayUnix     True\n",
              "user/gender           True\n",
              "user/profileName      True\n",
              "dtype: bool"
            ]
          },
          "metadata": {
            "tags": []
          },
          "execution_count": 85
        }
      ]
    },
    {
      "cell_type": "code",
      "metadata": {
        "id": "lfQIE_2dznBW",
        "colab": {
          "base_uri": "https://localhost:8080/"
        },
        "outputId": "3cb2ec31-0c99-4d37-ae00-59971afdbc71"
      },
      "source": [
        "df_dev.isnull().sum()"
      ],
      "execution_count": 86,
      "outputs": [
        {
          "output_type": "execute_result",
          "data": {
            "text/plain": [
              "beer/ABV              3107\n",
              "beer/name                0\n",
              "beer/style               0\n",
              "review/appearance        0\n",
              "review/aroma             0\n",
              "review/overall           0\n",
              "review/palate            0\n",
              "review/taste             0\n",
              "review/text             18\n",
              "user/ageInSeconds    55355\n",
              "user/birthdayRaw     55355\n",
              "user/birthdayUnix    55355\n",
              "user/gender          41819\n",
              "user/profileName        14\n",
              "dtype: int64"
            ]
          },
          "metadata": {
            "tags": []
          },
          "execution_count": 86
        }
      ]
    },
    {
      "cell_type": "code",
      "metadata": {
        "id": "opJrVzlWz90V",
        "colab": {
          "base_uri": "https://localhost:8080/"
        },
        "outputId": "111e166e-9c42-4786-ff81-6a205b177264"
      },
      "source": [
        "df_eval.isnull().sum()"
      ],
      "execution_count": 87,
      "outputs": [
        {
          "output_type": "execute_result",
          "data": {
            "text/plain": [
              "beer/ABV              1285\n",
              "beer/name                0\n",
              "beer/style               0\n",
              "review/appearance        0\n",
              "review/aroma             0\n",
              "review/palate            0\n",
              "review/taste             0\n",
              "review/text              4\n",
              "user/ageInSeconds    23728\n",
              "user/birthdayRaw     23728\n",
              "user/birthdayUnix    23728\n",
              "user/gender          17870\n",
              "user/profileName         3\n",
              "dtype: int64"
            ]
          },
          "metadata": {
            "tags": []
          },
          "execution_count": 87
        }
      ]
    },
    {
      "cell_type": "code",
      "metadata": {
        "id": "tVHjS9hU0ldZ",
        "colab": {
          "base_uri": "https://localhost:8080/"
        },
        "outputId": "42f37720-3cca-46bb-d66c-2f504e13ae92"
      },
      "source": [
        "df = pd.concat([df_dev, df_eval], sort=False)\n",
        "len(df_dev), len(df_eval), len(df)"
      ],
      "execution_count": 88,
      "outputs": [
        {
          "output_type": "execute_result",
          "data": {
            "text/plain": [
              "(70000, 30000, 100000)"
            ]
          },
          "metadata": {
            "tags": []
          },
          "execution_count": 88
        }
      ]
    },
    {
      "cell_type": "code",
      "metadata": {
        "id": "3Zi7dkpn2-el",
        "colab": {
          "base_uri": "https://localhost:8080/"
        },
        "outputId": "45b639b2-ad19-480f-bd0a-182481a47564"
      },
      "source": [
        "df.isna().any(axis=0)"
      ],
      "execution_count": 89,
      "outputs": [
        {
          "output_type": "execute_result",
          "data": {
            "text/plain": [
              "beer/ABV              True\n",
              "beer/name            False\n",
              "beer/style           False\n",
              "review/appearance    False\n",
              "review/aroma         False\n",
              "review/overall        True\n",
              "review/palate        False\n",
              "review/taste         False\n",
              "review/text           True\n",
              "user/ageInSeconds     True\n",
              "user/birthdayRaw      True\n",
              "user/birthdayUnix     True\n",
              "user/gender           True\n",
              "user/profileName      True\n",
              "dtype: bool"
            ]
          },
          "metadata": {
            "tags": []
          },
          "execution_count": 89
        }
      ]
    },
    {
      "cell_type": "code",
      "metadata": {
        "id": "W5Jda7Wp3DeC",
        "colab": {
          "base_uri": "https://localhost:8080/"
        },
        "outputId": "02c93358-b565-4162-f43e-6b57be418f9f"
      },
      "source": [
        "df.isnull().sum()"
      ],
      "execution_count": 90,
      "outputs": [
        {
          "output_type": "execute_result",
          "data": {
            "text/plain": [
              "beer/ABV              4392\n",
              "beer/name                0\n",
              "beer/style               0\n",
              "review/appearance        0\n",
              "review/aroma             0\n",
              "review/overall       30000\n",
              "review/palate            0\n",
              "review/taste             0\n",
              "review/text             22\n",
              "user/ageInSeconds    79083\n",
              "user/birthdayRaw     79083\n",
              "user/birthdayUnix    79083\n",
              "user/gender          59689\n",
              "user/profileName        17\n",
              "dtype: int64"
            ]
          },
          "metadata": {
            "tags": []
          },
          "execution_count": 90
        }
      ]
    },
    {
      "cell_type": "code",
      "metadata": {
        "id": "ex_FUzeL3TAJ",
        "colab": {
          "base_uri": "https://localhost:8080/"
        },
        "outputId": "f6e1e93c-88f3-4dd1-a715-437c8406aee8"
      },
      "source": [
        "(df[df[\"user/ageInSeconds\"].isna()].index == df[df[\"user/birthdayRaw\"].isna()].index).all(),\\\n",
        "(df[df[\"user/ageInSeconds\"].isna()].index == df[df[\"user/birthdayUnix\"].isna()].index).all(),\\\n",
        "(df[df[\"user/birthdayRaw\"].isna()].index == df[df[\"user/birthdayUnix\"].isna()].index).all()\n"
      ],
      "execution_count": 91,
      "outputs": [
        {
          "output_type": "execute_result",
          "data": {
            "text/plain": [
              "(True, True, True)"
            ]
          },
          "metadata": {
            "tags": []
          },
          "execution_count": 91
        }
      ]
    },
    {
      "cell_type": "code",
      "metadata": {
        "id": "cwepvuSjDN9e",
        "colab": {
          "base_uri": "https://localhost:8080/"
        },
        "outputId": "73774286-9087-418c-cbb1-76fda66a0fc5"
      },
      "source": [
        "from sklearn.model_selection import train_test_split\n",
        "\n",
        "df_dropped = df.drop(columns=[\"beer/name\", \"beer/style\", \"beer/ABV\", \"review/text\",\"user/ageInSeconds\" ,\"user/birthdayRaw\", \"user/birthdayUnix\", \"user/gender\", \"user/profileName\"])\n",
        "\n",
        "train_valid_mask = ~df_dropped[\"review/overall\"].isna()\n",
        "\n",
        "X = df_dropped.drop(columns=[\"review/overall\"]).values\n",
        "\n",
        "y = df_dropped[\"review/overall\"].values\n",
        "\n",
        "X_train_valid = X[train_valid_mask]\n",
        "y_train_valid = y[train_valid_mask]\n",
        "X_test = X[~train_valid_mask]\n",
        "y_test = y[~train_valid_mask]\n",
        "X_train, X_valid, y_train, y_valid = train_test_split(X_train_valid, y_train_valid, shuffle=True)\n",
        "\n",
        "from sklearn.ensemble import RandomForestRegressor\n",
        "from sklearn.metrics import r2_score\n",
        "reg = RandomForestRegressor(100)\n",
        "reg.fit(X_train , y_train)\n",
        "r2_score(y_valid, reg.predict(X_valid))"
      ],
      "execution_count": 92,
      "outputs": [
        {
          "output_type": "execute_result",
          "data": {
            "text/plain": [
              "0.6590498221111216"
            ]
          },
          "metadata": {
            "tags": []
          },
          "execution_count": 92
        }
      ]
    },
    {
      "cell_type": "code",
      "metadata": {
        "id": "w6x22m4dolsB"
      },
      "source": [
        "df[\"user/ageInSeconds\"]. fillna(7.043462, inplace=True)"
      ],
      "execution_count": 93,
      "outputs": []
    },
    {
      "cell_type": "code",
      "metadata": {
        "id": "HsqRk7w0p9Py",
        "colab": {
          "base_uri": "https://localhost:8080/",
          "height": 505
        },
        "outputId": "cf22ad9b-20ff-4dbe-b39f-b16a4b3e5b08"
      },
      "source": [
        "df.head()"
      ],
      "execution_count": 94,
      "outputs": [
        {
          "output_type": "execute_result",
          "data": {
            "text/html": [
              "<div>\n",
              "<style scoped>\n",
              "    .dataframe tbody tr th:only-of-type {\n",
              "        vertical-align: middle;\n",
              "    }\n",
              "\n",
              "    .dataframe tbody tr th {\n",
              "        vertical-align: top;\n",
              "    }\n",
              "\n",
              "    .dataframe thead th {\n",
              "        text-align: right;\n",
              "    }\n",
              "</style>\n",
              "<table border=\"1\" class=\"dataframe\">\n",
              "  <thead>\n",
              "    <tr style=\"text-align: right;\">\n",
              "      <th></th>\n",
              "      <th>beer/ABV</th>\n",
              "      <th>beer/name</th>\n",
              "      <th>beer/style</th>\n",
              "      <th>review/appearance</th>\n",
              "      <th>review/aroma</th>\n",
              "      <th>review/overall</th>\n",
              "      <th>review/palate</th>\n",
              "      <th>review/taste</th>\n",
              "      <th>review/text</th>\n",
              "      <th>user/ageInSeconds</th>\n",
              "      <th>user/birthdayRaw</th>\n",
              "      <th>user/birthdayUnix</th>\n",
              "      <th>user/gender</th>\n",
              "      <th>user/profileName</th>\n",
              "    </tr>\n",
              "  </thead>\n",
              "  <tbody>\n",
              "    <tr>\n",
              "      <th>0</th>\n",
              "      <td>5.70</td>\n",
              "      <td>Barney Flats Oatmeal Stout</td>\n",
              "      <td>Oatmeal Stout</td>\n",
              "      <td>4.5</td>\n",
              "      <td>5.0</td>\n",
              "      <td>4.5</td>\n",
              "      <td>4.0</td>\n",
              "      <td>4.5</td>\n",
              "      <td>Pours a dark almost cola color with reddish br...</td>\n",
              "      <td>1.066918e+09</td>\n",
              "      <td>Feb 19, 1981</td>\n",
              "      <td>351417600.0</td>\n",
              "      <td>Male</td>\n",
              "      <td>goblue3509</td>\n",
              "    </tr>\n",
              "    <tr>\n",
              "      <th>1</th>\n",
              "      <td>9.99</td>\n",
              "      <td>Brown Shugga'</td>\n",
              "      <td>American Strong Ale</td>\n",
              "      <td>4.0</td>\n",
              "      <td>4.0</td>\n",
              "      <td>4.0</td>\n",
              "      <td>4.5</td>\n",
              "      <td>5.0</td>\n",
              "      <td>I went to a place called World Market in Oxnar...</td>\n",
              "      <td>7.043462e+00</td>\n",
              "      <td>NaN</td>\n",
              "      <td>NaN</td>\n",
              "      <td>NaN</td>\n",
              "      <td>Lounge14ABV</td>\n",
              "    </tr>\n",
              "    <tr>\n",
              "      <th>2</th>\n",
              "      <td>5.35</td>\n",
              "      <td>Casta Bruna (Pale Ale)</td>\n",
              "      <td>English Pale Ale</td>\n",
              "      <td>3.0</td>\n",
              "      <td>3.0</td>\n",
              "      <td>4.0</td>\n",
              "      <td>3.0</td>\n",
              "      <td>3.5</td>\n",
              "      <td>I clicked on Casta tonight just to add some no...</td>\n",
              "      <td>7.043462e+00</td>\n",
              "      <td>NaN</td>\n",
              "      <td>NaN</td>\n",
              "      <td>NaN</td>\n",
              "      <td>DogFood11</td>\n",
              "    </tr>\n",
              "    <tr>\n",
              "      <th>3</th>\n",
              "      <td>8.00</td>\n",
              "      <td>Old Engine Oil Special Reserve (Aged In Malt W...</td>\n",
              "      <td>Old Ale</td>\n",
              "      <td>4.0</td>\n",
              "      <td>4.5</td>\n",
              "      <td>4.0</td>\n",
              "      <td>5.0</td>\n",
              "      <td>4.0</td>\n",
              "      <td>Wonderful little beer. Pours a deep brown with...</td>\n",
              "      <td>7.043462e+00</td>\n",
              "      <td>NaN</td>\n",
              "      <td>NaN</td>\n",
              "      <td>NaN</td>\n",
              "      <td>BasementDweller</td>\n",
              "    </tr>\n",
              "    <tr>\n",
              "      <th>4</th>\n",
              "      <td>7.00</td>\n",
              "      <td>Dark Humor</td>\n",
              "      <td>American Porter</td>\n",
              "      <td>3.5</td>\n",
              "      <td>4.0</td>\n",
              "      <td>4.0</td>\n",
              "      <td>4.0</td>\n",
              "      <td>4.5</td>\n",
              "      <td>Excited to see this on tap at Fathead's origin...</td>\n",
              "      <td>7.043462e+00</td>\n",
              "      <td>NaN</td>\n",
              "      <td>NaN</td>\n",
              "      <td>NaN</td>\n",
              "      <td>OneDropSoup</td>\n",
              "    </tr>\n",
              "  </tbody>\n",
              "</table>\n",
              "</div>"
            ],
            "text/plain": [
              "   beer/ABV  ... user/profileName\n",
              "0      5.70  ...       goblue3509\n",
              "1      9.99  ...      Lounge14ABV\n",
              "2      5.35  ...        DogFood11\n",
              "3      8.00  ...  BasementDweller\n",
              "4      7.00  ...      OneDropSoup\n",
              "\n",
              "[5 rows x 14 columns]"
            ]
          },
          "metadata": {
            "tags": []
          },
          "execution_count": 94
        }
      ]
    },
    {
      "cell_type": "code",
      "metadata": {
        "id": "n9cfxy3kp-5A",
        "colab": {
          "base_uri": "https://localhost:8080/"
        },
        "outputId": "6e04be8d-83bb-4ea3-ac33-dd0d0a75edca"
      },
      "source": [
        "df.isnull().sum()"
      ],
      "execution_count": 95,
      "outputs": [
        {
          "output_type": "execute_result",
          "data": {
            "text/plain": [
              "beer/ABV              4392\n",
              "beer/name                0\n",
              "beer/style               0\n",
              "review/appearance        0\n",
              "review/aroma             0\n",
              "review/overall       30000\n",
              "review/palate            0\n",
              "review/taste             0\n",
              "review/text             22\n",
              "user/ageInSeconds        0\n",
              "user/birthdayRaw     79083\n",
              "user/birthdayUnix    79083\n",
              "user/gender          59689\n",
              "user/profileName        17\n",
              "dtype: int64"
            ]
          },
          "metadata": {
            "tags": []
          },
          "execution_count": 95
        }
      ]
    },
    {
      "cell_type": "code",
      "metadata": {
        "id": "OXXNo1OgqITR"
      },
      "source": [
        "df[\"beer/ABV\"]. fillna(7.043462, inplace=True)"
      ],
      "execution_count": 96,
      "outputs": []
    },
    {
      "cell_type": "code",
      "metadata": {
        "id": "u3P4_6QGqsHX",
        "colab": {
          "base_uri": "https://localhost:8080/"
        },
        "outputId": "1888c4c2-b8bd-4604-9826-29039c52ea04"
      },
      "source": [
        "df.isnull().sum()"
      ],
      "execution_count": 97,
      "outputs": [
        {
          "output_type": "execute_result",
          "data": {
            "text/plain": [
              "beer/ABV                 0\n",
              "beer/name                0\n",
              "beer/style               0\n",
              "review/appearance        0\n",
              "review/aroma             0\n",
              "review/overall       30000\n",
              "review/palate            0\n",
              "review/taste             0\n",
              "review/text             22\n",
              "user/ageInSeconds        0\n",
              "user/birthdayRaw     79083\n",
              "user/birthdayUnix    79083\n",
              "user/gender          59689\n",
              "user/profileName        17\n",
              "dtype: int64"
            ]
          },
          "metadata": {
            "tags": []
          },
          "execution_count": 97
        }
      ]
    },
    {
      "cell_type": "code",
      "metadata": {
        "id": "4a82bnamquBP",
        "colab": {
          "base_uri": "https://localhost:8080/"
        },
        "outputId": "a9026a1f-45d2-4ce3-8c29-cd50a0236368"
      },
      "source": [
        "from sklearn.model_selection import train_test_split\n",
        "\n",
        "df_dropped = df.drop(columns=[\"beer/ABV\",\"user/gender\", \"beer/style\",\"user/ageInSeconds\",\"beer/name\", \"review/text\", \"user/profileName\",\"user/birthdayRaw\",\"user/birthdayUnix\"])\n",
        "\n",
        "train_valid_mask = ~df_dropped[\"review/overall\"].isna()\n",
        "\n",
        "feature_names = df_dropped[train_valid_mask].drop(columns=[\"review/overall\"]).columns\n",
        "\n",
        "X = df_dropped.drop(columns=[\"review/overall\"]).values\n",
        "\n",
        "y = df_dropped[\"review/overall\"].values\n",
        "\n",
        "X_train_valid = X[train_valid_mask]\n",
        "y_train_valid = y[train_valid_mask]\n",
        "X_test = X[~train_valid_mask]\n",
        "y_test = y[~train_valid_mask]\n",
        "X_train, X_valid, y_train, y_valid = train_test_split(X_train_valid, y_train_valid, shuffle=True, random_state=42)\n",
        "\n",
        "from sklearn.ensemble import RandomForestRegressor\n",
        "from sklearn.metrics import r2_score\n",
        "reg = RandomForestRegressor(100, random_state=42)\n",
        "reg.fit(X_train , y_train)\n",
        "r2_score(y_valid, reg.predict(X_valid))"
      ],
      "execution_count": 98,
      "outputs": [
        {
          "output_type": "execute_result",
          "data": {
            "text/plain": [
              "0.6573432880926039"
            ]
          },
          "metadata": {
            "tags": []
          },
          "execution_count": 98
        }
      ]
    },
    {
      "cell_type": "code",
      "metadata": {
        "id": "VW3GWg4esCKR"
      },
      "source": [
        "df[\"user/birthdayRaw\"]. fillna(0, inplace=True)"
      ],
      "execution_count": 99,
      "outputs": []
    },
    {
      "cell_type": "code",
      "metadata": {
        "id": "8TsGi0b2sfJX",
        "colab": {
          "base_uri": "https://localhost:8080/"
        },
        "outputId": "200b2396-572e-4e42-897c-fad9b7304084"
      },
      "source": [
        "from sklearn.model_selection import train_test_split\n",
        "\n",
        "df_dropped = df.drop(columns=[\"beer/ABV\",\"user/gender\", \"beer/style\",\"user/ageInSeconds\",\"beer/name\", \"review/text\", \"user/profileName\",\"user/birthdayRaw\",\"user/birthdayUnix\"])\n",
        "\n",
        "train_valid_mask = ~df_dropped[\"review/overall\"].isna()\n",
        "\n",
        "feature_names = df_dropped[train_valid_mask].drop(columns=[\"review/overall\"]).columns\n",
        "\n",
        "X = df_dropped.drop(columns=[\"review/overall\"]).values\n",
        "\n",
        "y = df_dropped[\"review/overall\"].values\n",
        "\n",
        "X_train_valid = X[train_valid_mask]\n",
        "y_train_valid = y[train_valid_mask]\n",
        "X_test = X[~train_valid_mask]\n",
        "y_test = y[~train_valid_mask]\n",
        "X_train, X_valid, y_train, y_valid = train_test_split(X_train_valid, y_train_valid, shuffle=True, random_state=42)\n",
        "\n",
        "from sklearn.ensemble import RandomForestRegressor\n",
        "from sklearn.metrics import r2_score\n",
        "reg = RandomForestRegressor(100, random_state=42)\n",
        "reg.fit(X_train , y_train)\n",
        "r2_score(y_valid, reg.predict(X_valid))"
      ],
      "execution_count": 100,
      "outputs": [
        {
          "output_type": "execute_result",
          "data": {
            "text/plain": [
              "0.6573432880926039"
            ]
          },
          "metadata": {
            "tags": []
          },
          "execution_count": 100
        }
      ]
    },
    {
      "cell_type": "code",
      "metadata": {
        "id": "C7uDxKFEsg6C",
        "colab": {
          "base_uri": "https://localhost:8080/"
        },
        "outputId": "19622403-47cc-4f67-b3fe-56c25431b557"
      },
      "source": [
        "sorted(zip(feature_names, reg.feature_importances_), key=lambda x: x[1], reverse=True)"
      ],
      "execution_count": 101,
      "outputs": [
        {
          "output_type": "execute_result",
          "data": {
            "text/plain": [
              "[('review/taste', 0.8966925724185741),\n",
              " ('review/palate', 0.05732173520524936),\n",
              " ('review/appearance', 0.023338935346328145),\n",
              " ('review/aroma', 0.02264675702984824)]"
            ]
          },
          "metadata": {
            "tags": []
          },
          "execution_count": 101
        }
      ]
    },
    {
      "cell_type": "code",
      "metadata": {
        "id": "majlEiSHs_SB",
        "colab": {
          "base_uri": "https://localhost:8080/"
        },
        "outputId": "fc63fc66-8b7b-4b12-dd33-3c000cd3b3d9"
      },
      "source": [
        "df.isnull().sum()\n"
      ],
      "execution_count": 102,
      "outputs": [
        {
          "output_type": "execute_result",
          "data": {
            "text/plain": [
              "beer/ABV                 0\n",
              "beer/name                0\n",
              "beer/style               0\n",
              "review/appearance        0\n",
              "review/aroma             0\n",
              "review/overall       30000\n",
              "review/palate            0\n",
              "review/taste             0\n",
              "review/text             22\n",
              "user/ageInSeconds        0\n",
              "user/birthdayRaw         0\n",
              "user/birthdayUnix    79083\n",
              "user/gender          59689\n",
              "user/profileName        17\n",
              "dtype: int64"
            ]
          },
          "metadata": {
            "tags": []
          },
          "execution_count": 102
        }
      ]
    },
    {
      "cell_type": "code",
      "metadata": {
        "id": "CuLX5SG-t8dD"
      },
      "source": [
        "df[\"user/birthdayUnix\"]. fillna(0, inplace=True)"
      ],
      "execution_count": 103,
      "outputs": []
    },
    {
      "cell_type": "code",
      "metadata": {
        "id": "ExSCfq5GuEYO",
        "colab": {
          "base_uri": "https://localhost:8080/"
        },
        "outputId": "fa4c56c0-7a2d-4634-ab89-49567e51e24e"
      },
      "source": [
        "df_1h = pd.get_dummies(df, columns=[\"user/gender\"])\n",
        "\n",
        "from sklearn.model_selection import train_test_split\n",
        "\n",
        "df_dropped = df_1h.drop(columns=[\"beer/ABV\",\"beer/style\",\"user/ageInSeconds\",\"beer/name\", \"review/text\", \"user/profileName\",\"user/birthdayRaw\",\"user/birthdayUnix\"])\n",
        "\n",
        "train_valid_mask = ~df_dropped[\"review/overall\"].isna()\n",
        "\n",
        "feature_names = df_dropped[train_valid_mask].drop(columns=[\"review/overall\"]).columns\n",
        "\n",
        "X = df_dropped.drop(columns=[\"review/overall\"]).values\n",
        "\n",
        "y = df_dropped[\"review/overall\"].values\n",
        "\n",
        "X_train_valid = X[train_valid_mask]\n",
        "y_train_valid = y[train_valid_mask]\n",
        "X_test = X[~train_valid_mask]\n",
        "y_test = y[~train_valid_mask]\n",
        "X_train, X_valid, y_train, y_valid = train_test_split(X_train_valid, y_train_valid, shuffle=True, random_state=42)\n",
        "\n",
        "from sklearn.ensemble import RandomForestRegressor\n",
        "from sklearn.metrics import r2_score\n",
        "reg = RandomForestRegressor(100, random_state=42)\n",
        "reg.fit(X_train , y_train)\n",
        "r2_score(y_valid, reg.predict(X_valid))"
      ],
      "execution_count": 104,
      "outputs": [
        {
          "output_type": "execute_result",
          "data": {
            "text/plain": [
              "0.651063296151476"
            ]
          },
          "metadata": {
            "tags": []
          },
          "execution_count": 104
        }
      ]
    },
    {
      "cell_type": "code",
      "metadata": {
        "id": "PCSU29AtuQYk",
        "colab": {
          "base_uri": "https://localhost:8080/"
        },
        "outputId": "5ac23328-cd76-4f75-b4b5-24fef744c9f8"
      },
      "source": [
        "sorted(zip(feature_names, reg.feature_importances_), key=lambda x: x[1], reverse=True)"
      ],
      "execution_count": 105,
      "outputs": [
        {
          "output_type": "execute_result",
          "data": {
            "text/plain": [
              "[('review/taste', 0.876924277608148),\n",
              " ('review/palate', 0.0570262916098255),\n",
              " ('review/appearance', 0.027414773205761064),\n",
              " ('review/aroma', 0.026666665486892276),\n",
              " ('user/gender_Male', 0.009600041499715214),\n",
              " ('user/gender_Female', 0.00236795058965803)]"
            ]
          },
          "metadata": {
            "tags": []
          },
          "execution_count": 105
        }
      ]
    },
    {
      "cell_type": "code",
      "metadata": {
        "id": "lSRK0Y9SuWcp"
      },
      "source": [
        "df[\"user/gender\"]. fillna(0, inplace=True)"
      ],
      "execution_count": 106,
      "outputs": []
    },
    {
      "cell_type": "code",
      "metadata": {
        "id": "xf8wmH6VujSE",
        "colab": {
          "base_uri": "https://localhost:8080/"
        },
        "outputId": "c4a4dae1-fdf6-492b-8624-853a9104a91a"
      },
      "source": [
        "\n",
        "\n",
        "from sklearn.model_selection import train_test_split\n",
        "\n",
        "df_dropped = df.drop(columns=[\"user/gender\", \"beer/ABV\",\"beer/style\",\"user/ageInSeconds\",\"beer/name\", \"review/text\", \"user/profileName\",\"user/birthdayRaw\",\"user/birthdayUnix\"])\n",
        "\n",
        "train_valid_mask = ~df_dropped[\"review/overall\"].isna()\n",
        "\n",
        "feature_names = df_dropped[train_valid_mask].drop(columns=[\"review/overall\"]).columns\n",
        "\n",
        "X = df_dropped.drop(columns=[\"review/overall\"]).values\n",
        "\n",
        "y = df_dropped[\"review/overall\"].values\n",
        "\n",
        "X_train_valid = X[train_valid_mask]\n",
        "y_train_valid = y[train_valid_mask]\n",
        "X_test = X[~train_valid_mask]\n",
        "y_test = y[~train_valid_mask]\n",
        "X_train, X_valid, y_train, y_valid = train_test_split(X_train_valid, y_train_valid, shuffle=True, random_state=42)\n",
        "\n",
        "from sklearn.ensemble import RandomForestRegressor\n",
        "from sklearn.metrics import r2_score\n",
        "reg = RandomForestRegressor(100, random_state=42)\n",
        "reg.fit(X_train , y_train)\n",
        "r2_score(y_valid, reg.predict(X_valid))"
      ],
      "execution_count": 107,
      "outputs": [
        {
          "output_type": "execute_result",
          "data": {
            "text/plain": [
              "0.6573432880926039"
            ]
          },
          "metadata": {
            "tags": []
          },
          "execution_count": 107
        }
      ]
    },
    {
      "cell_type": "code",
      "metadata": {
        "id": "KnJm-Wt-vReN",
        "colab": {
          "base_uri": "https://localhost:8080/"
        },
        "outputId": "acb04a47-b6a3-4685-952f-96df96082f88"
      },
      "source": [
        "df_1h = pd.get_dummies(df, columns=[\"beer/style\"])\n",
        "\n",
        "from sklearn.model_selection import train_test_split\n",
        "\n",
        "df_dropped = df_1h.drop(columns=[\"user/gender\", \"user/ageInSeconds\",\"beer/name\", \"review/text\", \"user/profileName\",\"user/birthdayRaw\",\"user/birthdayUnix\"])\n",
        "\n",
        "train_valid_mask = ~df_dropped[\"review/overall\"].isna()\n",
        "\n",
        "feature_names = df_dropped[train_valid_mask].drop(columns=[\"review/overall\"]).columns\n",
        "\n",
        "X = df_dropped.drop(columns=[\"review/overall\"]).values\n",
        "\n",
        "y = df_dropped[\"review/overall\"].values\n",
        "\n",
        "X_train_valid = X[train_valid_mask]\n",
        "y_train_valid = y[train_valid_mask]\n",
        "X_test = X[~train_valid_mask]\n",
        "y_test = y[~train_valid_mask]\n",
        "X_train, X_valid, y_train, y_valid = train_test_split(X_train_valid, y_train_valid, shuffle=True, random_state=42)\n",
        "\n",
        "from sklearn.ensemble import RandomForestRegressor\n",
        "from sklearn.metrics import r2_score\n",
        "reg = RandomForestRegressor(100, random_state=42)\n",
        "reg.fit(X_train , y_train)\n",
        "r2_score(y_valid, reg.predict(X_valid))"
      ],
      "execution_count": 108,
      "outputs": [
        {
          "output_type": "execute_result",
          "data": {
            "text/plain": [
              "0.6183739102365546"
            ]
          },
          "metadata": {
            "tags": []
          },
          "execution_count": 108
        }
      ]
    },
    {
      "cell_type": "code",
      "metadata": {
        "id": "jcOvFK3yv7Op",
        "colab": {
          "base_uri": "https://localhost:8080/"
        },
        "outputId": "3c7682fe-4501-4c6c-c78f-a09adfbdda34"
      },
      "source": [
        "df_1h = pd.get_dummies(df, columns=[\"beer/style\"])\n",
        "\n",
        "from sklearn.model_selection import train_test_split\n",
        "\n",
        "df_dropped = df_1h.drop(columns=[\"beer/ABV\", \"user/gender\", \"user/ageInSeconds\",\"beer/name\", \"review/text\", \"user/profileName\",\"user/birthdayRaw\",\"user/birthdayUnix\"])\n",
        "\n",
        "train_valid_mask = ~df_dropped[\"review/overall\"].isna()\n",
        "\n",
        "feature_names = df_dropped[train_valid_mask].drop(columns=[\"review/overall\"]).columns\n",
        "\n",
        "X = df_dropped.drop(columns=[\"review/overall\"]).values\n",
        "\n",
        "y = df_dropped[\"review/overall\"].values\n",
        "\n",
        "X_train_valid = X[train_valid_mask]\n",
        "y_train_valid = y[train_valid_mask]\n",
        "X_test = X[~train_valid_mask]\n",
        "y_test = y[~train_valid_mask]\n",
        "X_train, X_valid, y_train, y_valid = train_test_split(X_train_valid, y_train_valid, shuffle=True, random_state=42)\n",
        "\n",
        "from sklearn.ensemble import RandomForestRegressor\n",
        "from sklearn.metrics import r2_score\n",
        "reg = RandomForestRegressor(100, random_state=42)\n",
        "reg.fit(X_train , y_train)\n",
        "r2_score(y_valid, reg.predict(X_valid))"
      ],
      "execution_count": 109,
      "outputs": [
        {
          "output_type": "execute_result",
          "data": {
            "text/plain": [
              "0.6238278786296673"
            ]
          },
          "metadata": {
            "tags": []
          },
          "execution_count": 109
        }
      ]
    },
    {
      "cell_type": "code",
      "metadata": {
        "id": "XxBA6XfPwlRk"
      },
      "source": [
        "df[\"user/profileName\"]. fillna(\"sina\", inplace=True)"
      ],
      "execution_count": 110,
      "outputs": []
    },
    {
      "cell_type": "code",
      "metadata": {
        "id": "IHGyk6NuxFEg",
        "colab": {
          "base_uri": "https://localhost:8080/"
        },
        "outputId": "032f2bd4-eb9f-4cec-a944-cfbd6d870a61"
      },
      "source": [
        "df.isnull().sum()"
      ],
      "execution_count": 111,
      "outputs": [
        {
          "output_type": "execute_result",
          "data": {
            "text/plain": [
              "beer/ABV                 0\n",
              "beer/name                0\n",
              "beer/style               0\n",
              "review/appearance        0\n",
              "review/aroma             0\n",
              "review/overall       30000\n",
              "review/palate            0\n",
              "review/taste             0\n",
              "review/text             22\n",
              "user/ageInSeconds        0\n",
              "user/birthdayRaw         0\n",
              "user/birthdayUnix        0\n",
              "user/gender              0\n",
              "user/profileName         0\n",
              "dtype: int64"
            ]
          },
          "metadata": {
            "tags": []
          },
          "execution_count": 111
        }
      ]
    },
    {
      "cell_type": "code",
      "metadata": {
        "id": "arZniugautcW"
      },
      "source": [
        "from sklearn.feature_extraction.text import TfidfVectorizer\n",
        "#stop_words = [\"beer\", 'and', \"the\", \"english\",\"to\", \"is\", \"this\",\"but\",\"in\",\"that\", \"for\", \"on\", \"some\", \"that\"]\n",
        "vectorizer = TfidfVectorizer(stop_words = \"english\", binary=True, use_idf=False, norm=False)\n",
        "wpm = vectorizer.fit_transform(df_1h[\"review/text\"].fillna(\"\"))"
      ],
      "execution_count": 112,
      "outputs": []
    },
    {
      "cell_type": "code",
      "metadata": {
        "id": "nw2CEfeOx2P1",
        "colab": {
          "base_uri": "https://localhost:8080/"
        },
        "outputId": "1eedbc09-487b-472e-bd19-bc631705853a"
      },
      "source": [
        "N = 150\n",
        "freq = sorted(zip(vectorizer.get_feature_names(), wpm.sum(axis=0).tolist()[0]), key=lambda x: x[1], reverse=True)[:N]\n",
        "freq"
      ],
      "execution_count": 113,
      "outputs": [
        {
          "output_type": "execute_result",
          "data": {
            "text/plain": [
              "[('head', 84804.0),\n",
              " ('beer', 59347.0),\n",
              " ('taste', 53629.0),\n",
              " ('good', 41768.0),\n",
              " ('carbonation', 41411.0),\n",
              " ('nice', 40343.0),\n",
              " ('light', 39120.0),\n",
              " ('malt', 39034.0),\n",
              " ('like', 38383.0),\n",
              " ('sweet', 38025.0),\n",
              " ('color', 36028.0),\n",
              " ('hops', 35578.0),\n",
              " ('aroma', 35383.0),\n",
              " ('pours', 34407.0),\n",
              " ('mouthfeel', 34276.0),\n",
              " ('flavor', 33136.0),\n",
              " ('lacing', 32767.0),\n",
              " ('white', 32523.0),\n",
              " ('finish', 31389.0),\n",
              " ('smell', 31181.0),\n",
              " ('bit', 31153.0),\n",
              " ('glass', 31149.0),\n",
              " ('bottle', 29701.0),\n",
              " ('medium', 29684.0),\n",
              " ('dark', 29129.0),\n",
              " ('little', 28542.0),\n",
              " ('body', 27705.0),\n",
              " ('poured', 26346.0),\n",
              " ('brown', 25834.0),\n",
              " ('just', 25310.0),\n",
              " ('hop', 23707.0),\n",
              " ('really', 21837.0),\n",
              " ('nose', 21637.0),\n",
              " ('smooth', 21625.0),\n",
              " ('caramel', 21131.0),\n",
              " ('bitterness', 20922.0),\n",
              " ('alcohol', 20634.0),\n",
              " ('great', 19711.0),\n",
              " ('notes', 18866.0),\n",
              " ('bitter', 18765.0),\n",
              " ('amber', 18623.0),\n",
              " ('overall', 18512.0),\n",
              " ('malts', 18183.0),\n",
              " ('sweetness', 18148.0),\n",
              " ('flavors', 17903.0),\n",
              " ('citrus', 17612.0),\n",
              " ('slightly', 17210.0),\n",
              " ('pretty', 17205.0),\n",
              " ('dry', 17073.0),\n",
              " ('orange', 16880.0),\n",
              " ('quite', 16842.0),\n",
              " ('bodied', 16719.0),\n",
              " ('drink', 16611.0),\n",
              " ('chocolate', 16474.0),\n",
              " ('creamy', 16166.0),\n",
              " ('style', 15986.0),\n",
              " ('clear', 15675.0),\n",
              " ('brew', 15447.0),\n",
              " ('drinkability', 15430.0),\n",
              " ('drinkable', 14922.0),\n",
              " ('slight', 14841.0),\n",
              " ('black', 14446.0),\n",
              " ('malty', 14003.0),\n",
              " ('finger', 13853.0),\n",
              " ('golden', 13685.0),\n",
              " ('strong', 13602.0),\n",
              " ('fruit', 13401.0),\n",
              " ('smells', 13368.0),\n",
              " ('appearance', 13311.0),\n",
              " ('big', 13250.0),\n",
              " ('ale', 13228.0),\n",
              " ('tan', 12676.0),\n",
              " ('roasted', 12521.0),\n",
              " ('hint', 12403.0),\n",
              " ('quickly', 12282.0),\n",
              " ('decent', 12115.0),\n",
              " ('coffee', 12089.0),\n",
              " ('lace', 11945.0),\n",
              " ('balanced', 11599.0),\n",
              " ('way', 11565.0),\n",
              " ('pint', 11361.0),\n",
              " ('feel', 11095.0),\n",
              " ('retention', 10873.0),\n",
              " ('deep', 10855.0),\n",
              " ('fruity', 10835.0),\n",
              " ('aftertaste', 10793.0),\n",
              " ('easy', 10662.0),\n",
              " ('leaves', 10515.0),\n",
              " ('mouth', 10424.0),\n",
              " ('better', 10416.0),\n",
              " ('yeast', 10409.0),\n",
              " ('mild', 10284.0),\n",
              " ('hazy', 10123.0),\n",
              " ('crisp', 10109.0),\n",
              " ('pale', 10086.0),\n",
              " ('beers', 10072.0),\n",
              " ('touch', 9944.0),\n",
              " ('ve', 9671.0),\n",
              " ('hoppy', 9629.0),\n",
              " ('tastes', 9592.0),\n",
              " ('time', 9564.0),\n",
              " ('bad', 9507.0),\n",
              " ('lots', 9473.0),\n",
              " ('think', 9440.0),\n",
              " ('palate', 9425.0),\n",
              " ('small', 9389.0),\n",
              " ('balance', 9381.0),\n",
              " ('definitely', 9357.0),\n",
              " ('hints', 9299.0),\n",
              " ('floral', 9285.0),\n",
              " ('abv', 9257.0),\n",
              " ('yellow', 9152.0),\n",
              " ('best', 9103.0),\n",
              " ('try', 9067.0),\n",
              " ('ipa', 8904.0),\n",
              " ('red', 8794.0),\n",
              " ('rich', 8777.0),\n",
              " ('lot', 8711.0),\n",
              " ('end', 8619.0),\n",
              " ('pour', 8517.0),\n",
              " ('spicy', 8477.0),\n",
              " ('high', 8426.0),\n",
              " ('clean', 8380.0),\n",
              " ('character', 8237.0),\n",
              " ('maybe', 8148.0),\n",
              " ('fairly', 7965.0),\n",
              " ('copper', 7919.0),\n",
              " ('solid', 7791.0),\n",
              " ('drinking', 7661.0),\n",
              " ('tap', 7580.0),\n",
              " ('complex', 7531.0),\n",
              " ('don', 7522.0),\n",
              " ('earthy', 7440.0),\n",
              " ('heavy', 7435.0),\n",
              " ('long', 7412.0),\n",
              " ('pine', 7385.0),\n",
              " ('tongue', 7382.0),\n",
              " ('aromas', 7338.0),\n",
              " ('fresh', 7273.0),\n",
              " ('spice', 7272.0),\n",
              " ('foam', 7225.0),\n",
              " ('cloudy', 7051.0),\n",
              " ('right', 7028.0),\n",
              " ('stout', 7017.0),\n",
              " ('moderate', 7015.0),\n",
              " ('bubbles', 6970.0),\n",
              " ('comes', 6929.0),\n",
              " ('oz', 6920.0),\n",
              " ('thanks', 6849.0),\n",
              " ('grapefruit', 6841.0)]"
            ]
          },
          "metadata": {
            "tags": []
          },
          "execution_count": 113
        }
      ]
    },
    {
      "cell_type": "code",
      "metadata": {
        "id": "yJRDdjQTyf9P"
      },
      "source": [
        "import numpy as np\n",
        "\n",
        "words = [ word for word, _ in freq ]\n",
        "mask = [ w in words for w in vectorizer.get_feature_names() ]\n",
        "words_ = [ w for w in vectorizer.get_feature_names() if w in words ]\n",
        "words_df = pd.DataFrame(data=wpm[:, np.array(mask)].toarray(), columns=[f\"word_{word}\" for word in words_], index=df_1h.index)"
      ],
      "execution_count": 114,
      "outputs": []
    },
    {
      "cell_type": "code",
      "metadata": {
        "id": "bb1zrFML2piA",
        "colab": {
          "base_uri": "https://localhost:8080/"
        },
        "outputId": "2ffe0255-c61a-489f-b1b0-7ef50ec19325"
      },
      "source": [
        "df_1h = df.join(pd.DataFrame(data=wpm[:, np.array(mask)].toarray(), columns=[f\"word_{word}\" for word in words_], index=df_1h.index))\n",
        "\n",
        "df_dropped = df_1h.drop(columns=[\"user/gender\", \"beer/ABV\",\"beer/style\",\"user/ageInSeconds\",\"beer/name\", \"review/text\", \"user/profileName\",\"user/birthdayRaw\",\"user/birthdayUnix\"])\n",
        "\n",
        "train_valid_mask = ~df_dropped[\"review/overall\"].isna()\n",
        "feature_names = df_dropped[train_valid_mask].drop(columns=[\"review/overall\"]).columns\n",
        "X = df_dropped.drop(columns=[\"review/overall\"]).values\n",
        "y = df_dropped[\"review/overall\"].values\n",
        "X_train_valid = X[train_valid_mask]\n",
        "y_train_valid = y[train_valid_mask]\n",
        "X_test = X[~train_valid_mask]\n",
        "y_test = y[~train_valid_mask]\n",
        "X_train, X_valid, y_train, y_valid = train_test_split(X_train_valid, y_train_valid, shuffle=True, random_state=42)\n",
        "reg = RandomForestRegressor(100, random_state=42)\n",
        "reg.fit(X_train, y_train)\n",
        "r2_score(y_valid, reg.predict(X_valid))"
      ],
      "execution_count": 115,
      "outputs": [
        {
          "output_type": "execute_result",
          "data": {
            "text/plain": [
              "0.6715670883223617"
            ]
          },
          "metadata": {
            "tags": []
          },
          "execution_count": 115
        }
      ]
    },
    {
      "cell_type": "code",
      "metadata": {
        "id": "uTJOrjt-3fmr",
        "colab": {
          "base_uri": "https://localhost:8080/"
        },
        "outputId": "26ec503a-62be-45e3-e934-79021e8323dc"
      },
      "source": [
        "y_valid.shape"
      ],
      "execution_count": 116,
      "outputs": [
        {
          "output_type": "execute_result",
          "data": {
            "text/plain": [
              "(25000,)"
            ]
          },
          "metadata": {
            "tags": []
          },
          "execution_count": 116
        }
      ]
    },
    {
      "cell_type": "code",
      "metadata": {
        "id": "zb-uecFi4b1L"
      },
      "source": [
        "from sklearn.feature_extraction.text import TfidfVectorizer\n",
        "vectorizer = TfidfVectorizer(stop_words = \"english\", binary=True, use_idf=False, norm=False)\n",
        "wpm2 = vectorizer.fit_transform(df_1h[\"beer/name\"].fillna(\"\"))"
      ],
      "execution_count": 117,
      "outputs": []
    },
    {
      "cell_type": "code",
      "metadata": {
        "id": "7jknBPCD5baE",
        "colab": {
          "base_uri": "https://localhost:8080/"
        },
        "outputId": "df5a4195-e3ee-4a52-de70-897d6e6c5ee3"
      },
      "source": [
        "N = 150\n",
        "freq2 = sorted(zip(vectorizer.get_feature_names(), wpm2.sum(axis=0).tolist()[0]), key=lambda x: x[1], reverse=True)[:N]\n",
        "freq2"
      ],
      "execution_count": 118,
      "outputs": [
        {
          "output_type": "execute_result",
          "data": {
            "text/plain": [
              "[('ale', 38573.0),\n",
              " ('stout', 14006.0),\n",
              " ('ipa', 11472.0),\n",
              " ('pale', 9392.0),\n",
              " ('imperial', 7682.0),\n",
              " ('porter', 6465.0),\n",
              " ('lager', 5257.0),\n",
              " ('samuel', 4306.0),\n",
              " ('beer', 4244.0),\n",
              " ('black', 4110.0),\n",
              " ('old', 3701.0),\n",
              " ('double', 3689.0),\n",
              " ('india', 3637.0),\n",
              " ('red', 3544.0),\n",
              " ('adams', 3438.0),\n",
              " ('brown', 3397.0),\n",
              " ('hop', 2959.0),\n",
              " ('wheat', 2760.0),\n",
              " ('style', 2625.0),\n",
              " ('stone', 2418.0),\n",
              " ('amber', 2270.0),\n",
              " ('sierra', 2191.0),\n",
              " ('nevada', 2183.0),\n",
              " ('aged', 2132.0),\n",
              " ('oatmeal', 2094.0),\n",
              " ('bell', 2093.0),\n",
              " ('barrel', 2080.0),\n",
              " ('dark', 2048.0),\n",
              " ('winter', 1991.0),\n",
              " ('founders', 1984.0),\n",
              " ('white', 1860.0),\n",
              " ('st', 1790.0),\n",
              " ('bock', 1788.0),\n",
              " ('belgian', 1700.0),\n",
              " ('series', 1698.0),\n",
              " ('anniversary', 1652.0),\n",
              " ('saison', 1645.0),\n",
              " ('special', 1640.0),\n",
              " ('extra', 1606.0),\n",
              " ('chocolate', 1584.0),\n",
              " ('big', 1455.0),\n",
              " ('pilsner', 1429.0),\n",
              " ('blue', 1405.0),\n",
              " ('tripel', 1381.0),\n",
              " ('great', 1380.0),\n",
              " ('bourbon', 1364.0),\n",
              " ('golden', 1330.0),\n",
              " ('reserve', 1320.0),\n",
              " ('la', 1312.0),\n",
              " ('premium', 1234.0),\n",
              " ('lakes', 1223.0),\n",
              " ('brooklyn', 1203.0),\n",
              " ('rye', 1199.0),\n",
              " ('light', 1179.0),\n",
              " ('summer', 1156.0),\n",
              " ('pils', 1136.0),\n",
              " ('blonde', 1121.0),\n",
              " ('oak', 1109.0),\n",
              " ('smuttynose', 1099.0),\n",
              " ('harvest', 1079.0),\n",
              " ('original', 1074.0),\n",
              " ('weisse', 1057.0),\n",
              " ('pumpkin', 1035.0),\n",
              " ('wine', 1032.0),\n",
              " ('bitter', 1023.0),\n",
              " ('oktoberfest', 1019.0),\n",
              " ('coffee', 998.0),\n",
              " ('barley', 986.0),\n",
              " ('christmas', 977.0),\n",
              " ('smith', 966.0),\n",
              " ('anchor', 951.0),\n",
              " ('dog', 947.0),\n",
              " ('hefeweizen', 945.0),\n",
              " ('irish', 936.0),\n",
              " ('saranac', 935.0),\n",
              " ('barleywine', 919.0),\n",
              " ('heavy', 911.0),\n",
              " ('esb', 881.0),\n",
              " ('brew', 857.0),\n",
              " ('russian', 847.0),\n",
              " ('mã', 816.0),\n",
              " ('bastard', 813.0),\n",
              " ('organic', 806.0),\n",
              " ('horse', 803.0),\n",
              " ('trappist', 803.0),\n",
              " ('harpoon', 796.0),\n",
              " ('scotch', 780.0),\n",
              " ('dunkel', 761.0),\n",
              " ('terrapin', 751.0),\n",
              " ('egs', 750.0),\n",
              " ('trã', 750.0),\n",
              " ('hefe', 745.0),\n",
              " ('doppelbock', 744.0),\n",
              " ('minute', 735.0),\n",
              " ('triple', 732.0),\n",
              " ('grand', 730.0),\n",
              " ('cream', 726.0),\n",
              " ('weizen', 724.0),\n",
              " ('new', 716.0),\n",
              " ('allagash', 699.0),\n",
              " ('abbey', 698.0),\n",
              " ('gold', 692.0),\n",
              " ('american', 665.0),\n",
              " ('weihenstephaner', 665.0),\n",
              " ('cru', 663.0),\n",
              " ('nut', 657.0),\n",
              " ('smoked', 657.0),\n",
              " ('honey', 644.0),\n",
              " ('seas', 641.0),\n",
              " ('green', 631.0),\n",
              " ('milk', 624.0),\n",
              " ('dubbel', 623.0),\n",
              " ('creek', 620.0),\n",
              " ('bernardus', 613.0),\n",
              " ('scottish', 590.0),\n",
              " ('raspberry', 589.0),\n",
              " ('wild', 588.0),\n",
              " ('cherry', 586.0),\n",
              " ('ayinger', 577.0),\n",
              " ('10', 576.0),\n",
              " ('12', 573.0),\n",
              " ('breakfast', 567.0),\n",
              " ('rzen', 563.0),\n",
              " ('holland', 560.0),\n",
              " ('king', 557.0),\n",
              " ('bier', 556.0),\n",
              " ('saint', 555.0),\n",
              " ('guinness', 553.0),\n",
              " ('du', 544.0),\n",
              " ('alesmith', 533.0),\n",
              " ('schneider', 529.0),\n",
              " ('cantillon', 513.0),\n",
              " ('high', 510.0),\n",
              " ('lambic', 510.0),\n",
              " ('fuller', 509.0),\n",
              " ('batch', 493.0),\n",
              " ('weissbier', 485.0),\n",
              " ('lagunitas', 483.0),\n",
              " ('moon', 479.0),\n",
              " ('chimay', 478.0),\n",
              " ('kriek', 474.0),\n",
              " ('dead', 473.0),\n",
              " ('young', 464.0),\n",
              " ('schlafly', 456.0),\n",
              " ('michelob', 455.0),\n",
              " ('river', 455.0),\n",
              " ('rochefort', 454.0),\n",
              " ('trappistes', 454.0),\n",
              " ('100', 453.0),\n",
              " ('farmhouse', 449.0)]"
            ]
          },
          "metadata": {
            "tags": []
          },
          "execution_count": 118
        }
      ]
    },
    {
      "cell_type": "code",
      "metadata": {
        "id": "VWWFMLjQ5m86"
      },
      "source": [
        "import numpy as np\n",
        "\n",
        "words = [ word for word, _ in freq2 ]\n",
        "mask = [ w in words for w in vectorizer.get_feature_names() ]\n",
        "words_ = [ w for w in vectorizer.get_feature_names() if w in words ]\n",
        "words_df = pd.DataFrame(data=wpm2[:, np.array(mask)].toarray(), columns=[f\"word_{word}\" for word in words_], index=df_1h.index)"
      ],
      "execution_count": 119,
      "outputs": []
    },
    {
      "cell_type": "code",
      "metadata": {
        "id": "yuOEnlGJ7NMt",
        "colab": {
          "base_uri": "https://localhost:8080/"
        },
        "outputId": "c20bfd0c-80b1-4a03-f992-35025d45ac0c"
      },
      "source": [
        "df_1h = df.join(pd.DataFrame(data=wpm2[:, np.array(mask)].toarray(), columns=[f\"word_{word}\" for word in words_], index=df_1h.index))\n",
        "df_dropped = df_1h.drop(columns=[\"user/gender\", \"beer/ABV\",\"beer/style\",\"user/ageInSeconds\",\"beer/name\", \"review/text\", \"user/profileName\",\"user/birthdayRaw\",\"user/birthdayUnix\"])\n",
        "\n",
        "train_valid_mask = ~df_dropped[\"review/overall\"].isna()\n",
        "feature_names = df_dropped[train_valid_mask].drop(columns=[\"review/overall\"]).columns\n",
        "X = df_dropped.drop(columns=[\"review/overall\"]).values\n",
        "y = df_dropped[\"review/overall\"].values\n",
        "X_train_valid = X[train_valid_mask]\n",
        "y_train_valid = y[train_valid_mask]\n",
        "X_test = X[~train_valid_mask]\n",
        "y_test = y[~train_valid_mask]\n",
        "X_train, X_valid, y_train, y_valid = train_test_split(X_train_valid, y_train_valid, shuffle=True, random_state=42)\n",
        "reg = RandomForestRegressor(100, random_state=42)\n",
        "reg.fit(X_train, y_train)\n",
        "r2_score(y_valid, reg.predict(X_valid))"
      ],
      "execution_count": 120,
      "outputs": [
        {
          "output_type": "execute_result",
          "data": {
            "text/plain": [
              "0.7192349745510798"
            ]
          },
          "metadata": {
            "tags": []
          },
          "execution_count": 120
        }
      ]
    },
    {
      "cell_type": "code",
      "metadata": {
        "id": "hDLPqVWoRRB9"
      },
      "source": [
        "#from sklearn.model_selection import GridSearchCV\n",
        "#param_grid = {\n",
        "#\"n_estimators\": [100, 250, 500],\n",
        "#\"criterion\": [\"mse\", \"mae\"],\n",
        "#\"max_features\": [\"auto\", \"sqrt\", \"log2\"],\n",
        "#\"random_state\": [42], \n",
        "#\"n_jobs\": [-1], \n",
        "#}\n",
        "#gs = GridSearchCV(RandomForestRegressor(), param_grid, scoring=\"r2\", n_jobs=-1, cv=5)\n",
        "#gs.fit(X_train_valid, y_train_valid)\n",
        "#gs.best_score_"
      ],
      "execution_count": null,
      "outputs": []
    },
    {
      "cell_type": "code",
      "metadata": {
        "id": "uw-6jlOKRu3l"
      },
      "source": [
        "#y_pred = gs.predict(X_test)\n",
        "#pd.DataFrame(y_pred, index=df[~train_valid_mask].index).to_csv(\"output.csv\", index_label=\"Id\", header=[\"Predicted\"])"
      ],
      "execution_count": null,
      "outputs": []
    },
    {
      "cell_type": "code",
      "metadata": {
        "id": "1kH2uyOJbKgp"
      },
      "source": [
        ""
      ],
      "execution_count": null,
      "outputs": []
    }
  ]
}